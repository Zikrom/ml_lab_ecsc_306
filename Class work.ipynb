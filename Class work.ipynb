{
 "cells": [
  {
   "cell_type": "code",
   "execution_count": 29,
   "metadata": {},
   "outputs": [
    {
     "data": {
      "image/png": "[encoded data removed]",
      "text/plain": [
       "<matplotlib.figure.Figure at 0x7f37e2e844e0>"
      ]
     },
     "metadata": {},
     "output_type": "display_data"
    },
    {
     "name": "stdout",
     "output_type": "stream",
     "text": [
      "1.75395\n"
     ]
    }
   ],
   "source": [
    "import tensorflow as tf\n",
    "import matplotlib.pyplot as plt\n",
    "'''import numpy as np'''\n",
    "\n",
    "tf.reset_default_graph()\n",
    "x = [1.2345,2.2344,3.4563,4.1234]\n",
    "y = [3.4234,2.5678,5.2468,7.1245]\n",
    "z = tf.reduce_mean(x)\n",
    "a = tf.reduce_mean(y)\n",
    "\n",
    "sum1 = tf.reduce_sum(x)\n",
    "sum2 = tf.reduce_sum(y)\n",
    "sum3 = 0\n",
    "RMSE = 0\n",
    "\n",
    "variance_x = tf.reduce_sum(tf.square(x-tf.reduce_mean(x)))\n",
    "'''variance_y = tf.sum(tf.square(y-mean(y)))'''\n",
    "for i in range(0,4):\n",
    "    sum3 = sum3 + (x[i] - tf.reduce_mean(x)) * (y[i] - tf.reduce_mean(y))\n",
    "covariance = sum3\n",
    "\n",
    "c = covariance/variance_x\n",
    "\n",
    "m = a -c* z\n",
    "\n",
    "'''\n",
    "print(sum1)\n",
    "print(sum2)\n",
    "print(covariance)\n",
    "print(c)\n",
    "print(m)\n",
    "'''\n",
    "\n",
    "'''sess.run(m)'''\n",
    "\n",
    "plt.plot(x, y, 'ro')\n",
    "plt.show()\n",
    "\n",
    "for i in range(0,4):\n",
    "    RMSE = RMSE + (tf.square(y[i] - tf.reduce_mean(y)))\n",
    "RMSE1 = tf.sqrt(RMSE/4)\n",
    "'''print(RMSE1)'''\n",
    "\n",
    "Input_values = x[:,0]\n",
    "Labels = data[:,1]\n",
    "Prediction_values = data[:,0] * wcoeff + bias\n",
    "\n",
    "'''plt.plot(x,y , 'ro', label='main')'''\n",
    "'''plt.plot(Input_values, Prediction_values, label='Predicted')'''\n",
    "\n",
    "with tf.Session() as sess:\n",
    "    writer = tf.summary.FileWriter(\"/tmp/tboard/output4\", sess.graph)\n",
    "    print(sess.run(RMSE1))\n",
    "    writer.close()"
   ]
  },
  {
   "cell_type": "code",
   "execution_count": null,
   "metadata": {},
   "outputs": [],
   "source": []
  },
  {
   "cell_type": "code",
   "execution_count": 21,
   "metadata": {},
   "outputs": [
    {
     "name": "stdout",
     "output_type": "stream",
     "text": [
      "2.76215\n",
      "4.590625\n",
      "6.755378385\n"
     ]
    }
   ],
   "source": [
    "import numpy as np\n",
    "x = [1.2345,2.2344,3.4563,4.1234]\n",
    "y = [3.4234,2.5678,5.2468,7.1245]\n",
    "sum = 0\n",
    "print(np.mean(x))\n",
    "print(np.mean(y))\n",
    "\n",
    "for i in range(0,4):\n",
    "    sum = sum + (x[i] - np.mean(x)) * (y[i] - np.mean(y))\n",
    "covariance = sum\n",
    "print(covariance)"
   ]
  },
  {
   "cell_type": "code",
   "execution_count": null,
   "metadata": {
    "collapsed": true
   },
   "outputs": [],
   "source": []
  }
 ],
 "metadata": {
  "kernelspec": {
   "display_name": "Python 3",
   "language": "python",
   "name": "python3"
  },
  "language_info": {
   "codemirror_mode": {
    "name": "ipython",
    "version": 3
   },
   "file_extension": ".py",
   "mimetype": "text/x-python",
   "name": "python",
   "nbconvert_exporter": "python",
   "pygments_lexer": "ipython3",
   "version": "3.6.1"
  }
 },
 "nbformat": 4,
 "nbformat_minor": 2
}
